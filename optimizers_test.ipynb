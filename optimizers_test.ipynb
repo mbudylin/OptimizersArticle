{
 "cells": [
  {
   "cell_type": "code",
   "execution_count": 9,
   "id": "5fd2d88c",
   "metadata": {},
   "outputs": [],
   "source": [
    "import numpy as np\n",
    "import pandas as pd\n",
    "import matplotlib.pyplot as plt\n",
    "\n",
    "import sys\n",
    "sys.path.append('./OptimizersArticle')\n",
    "\n",
    "\n",
    "from data_generator.data_generator import \n",
    "\n",
    "\n",
    "from optimizers.optimizers import (\n",
    "    ScipyNlpOptimizationModel,\n",
    "    PyomoNlpOptimizationModel,\n",
    "    PyomoLpOptimizationModel,\n",
    "    CvxpyLpOptimizationModel\n",
    ")\n",
    "from optimizers.optimization import pricing_optimization\n"
   ]
  },
  {
   "cell_type": "code",
   "execution_count": null,
   "id": "27d420e8",
   "metadata": {},
   "outputs": [],
   "source": []
  },
  {
   "cell_type": "code",
   "execution_count": null,
   "id": "e4731b9c",
   "metadata": {},
   "outputs": [],
   "source": []
  },
  {
   "cell_type": "code",
   "execution_count": null,
   "id": "2c11db6a",
   "metadata": {},
   "outputs": [],
   "source": []
  },
  {
   "cell_type": "code",
   "execution_count": null,
   "id": "bad039ca",
   "metadata": {},
   "outputs": [],
   "source": []
  }
 ],
 "metadata": {
  "kernelspec": {
   "display_name": "optimizer_code_env",
   "language": "python",
   "name": "optimizer_code_env"
  },
  "language_info": {
   "codemirror_mode": {
    "name": "ipython",
    "version": 3
   },
   "file_extension": ".py",
   "mimetype": "text/x-python",
   "name": "python",
   "nbconvert_exporter": "python",
   "pygments_lexer": "ipython3",
   "version": "3.7.12"
  }
 },
 "nbformat": 4,
 "nbformat_minor": 5
}
