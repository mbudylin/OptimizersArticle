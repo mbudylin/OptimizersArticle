{
 "cells": [
  {
   "cell_type": "markdown",
   "id": "350ad809",
   "metadata": {
    "tags": []
   },
   "source": [
    "# Оптимизационные задачи в ритейле"
   ]
  },
  {
   "cell_type": "markdown",
   "id": "55826439",
   "metadata": {},
   "source": [
    "Привет, Habr! На связи отдел аналитики данных X5 Tech."
   ]
  },
  {
   "cell_type": "markdown",
   "id": "69a330eb",
   "metadata": {},
   "source": [
    "Сегодня мы поговорим об очень интересном разделе прикладной математики — оптимизации.\n",
    "Так как данная тема достаточно обширна, то помимо данной статьи будет ещё 2:\n",
    "\n",
    "    1) Сравнение open-source солверов на примере задачи ритейла [статья](http://)\n",
    "    2) Решение модельной задачи ценообразования оптимизаторами в различных постановках [статья](http://)\n",
    "\n",
    "\n",
    "Цель данной статьи — рассказать про задачи, которые решаются методами оптимизации\n",
    "и продемонстрировать применение пакета [__Pyomo__](http://www.pyomo.org/) для решения модельной задачи.\n"
   ]
  },
  {
   "cell_type": "markdown",
   "id": "41c549d4",
   "metadata": {
    "tags": []
   },
   "source": [
    "## Примеры задач\n"
   ]
  },
  {
   "cell_type": "markdown",
   "id": "77d8aa40",
   "metadata": {},
   "source": [
    "Практически каждый человек ежедневно решает оптимизационные задачи даже не задумываясь об этом. Пара примеров:\n",
    "\n",
    "**Закупка.**\n",
    "Как правило, мы хотим минимизировать наши расходы для приобретения необходимых товаров, но при условии, чтобы эти товары были максимально полезны.\n",
    "Полезность здесь у каждого своя:\n",
    "для одних она определяется количеством растительных жиров,\n",
    "для других — минимальной суммарной стоимостью корзины,\n",
    "для третьих — наличием привычных товаров, и тд.\n",
    "\n",
    "**Отпуск.**\n",
    "Во время ограниченного отпуска мы хотим распределить свой маршрут так,\n",
    "чтобы посетить всё, что запланировали с минимальными временными затратами на дорогу, и при этом не забыть позагорать на пляже."
   ]
  },
  {
   "cell_type": "markdown",
   "id": "91d23318",
   "metadata": {},
   "source": [
    "Бизнес требования часто приводят к задаче многокритериальной оптимизации и задаче оптимального управления.\n",
    "В таких постановках решения, найденные методами оптимизации, чрезвычайно полезны для принятия решений.\n",
    "Приведём для иллюстрации несколько задач из области ритейла.\n",
    "\n",
    "**Ценообразование.**\n",
    "Поиск оптимальной конфигурации цен с учетом ценового позиционирования, допустимых ценовых диапазонов\n",
    "для каждого товара и набора бизнес-ограничений.\n",
    "Цены должны максимизировать суммарный доход, а прибыль быть не ниже на заданного уровня.\n",
    "\n",
    "**Оптимальное распределение маркетингового бюджета.**\n",
    "Реализовать максимально эффективно выделенный на маркетинговые активности бюджет.\n",
    "Есть несколько каналов для рекламных акций, цель — максимально выгодно инвестировать бюджет,\n",
    "чтобы суммарный доход со всех коммуникаций был максимален.\n",
    "Также необходимо учесть бизнес ограничения на нагрузку каждого канала + частоту взаимодействия.\n",
    "\n",
    "**Планирование ассортимента.**\n",
    "Подобрать ассортимент товаров так, чтобы максимизировать оборот с учетом полочного пространства и других характеристик магазина.\n",
    "\n",
    "**Закупка товаров.**\n",
    "Задача — распределить бюджет, выделенный на закупки, для поддержания товарооборота, достаточного уровня сервиса,\n",
    "и при этом достигнуть определенных финансовых показателей под выделенный бюджет на закупки.\n",
    "\n",
    "**Логистика.**\n",
    "Задача — найти оптимальный график доставки продуктов с учётом вместимости грузовиков, затрат на логистику и тд.\n"
   ]
  },
  {
   "cell_type": "code",
   "execution_count": 1,
   "id": "6dc58cd8-5b0d-4953-b519-0f3570e674f5",
   "metadata": {},
   "outputs": [],
   "source": [
    "from optimizers.optimizers import PyomoLpOptimizationModel, ScipyNlpOptimizationModel, CvxpyLpOptimizationModel, PyomoNlpOptimizationModel"
   ]
  },
  {
   "cell_type": "code",
   "execution_count": 7,
   "id": "72ed32bf-dcc0-4964-9be4-f253b8b0c5e1",
   "metadata": {},
   "outputs": [],
   "source": [
    "from data_generator.data_generator import generate_data, generate_base_data"
   ]
  },
  {
   "cell_type": "code",
   "execution_count": 4,
   "id": "577d8f1a-0626-4cc6-89d1-db080f0dd05d",
   "metadata": {},
   "outputs": [],
   "source": [
    "from runner import BOUNDS_PARAMS, LP_MAX_GRID_SIZE"
   ]
  },
  {
   "cell_type": "code",
   "execution_count": 5,
   "id": "3ce78a0c-b013-4025-9d93-ba9cfdecee9e",
   "metadata": {},
   "outputs": [],
   "source": [
    "data = generate_data(10, BOUNDS_PARAMS, LP_MAX_GRID_SIZE, 42)"
   ]
  },
  {
   "cell_type": "code",
   "execution_count": 8,
   "id": "a17a046c-1717-485b-8bdf-760d87e44664",
   "metadata": {},
   "outputs": [],
   "source": [
    "data = generate_base_data(10)"
   ]
  },
  {
   "cell_type": "code",
   "execution_count": 9,
   "id": "754ee913-11a1-4c66-b737-bb9ac0f2f9ad",
   "metadata": {},
   "outputs": [
    {
     "data": {
      "text/html": [
       "<div>\n",
       "<style scoped>\n",
       "    .dataframe tbody tr th:only-of-type {\n",
       "        vertical-align: middle;\n",
       "    }\n",
       "\n",
       "    .dataframe tbody tr th {\n",
       "        vertical-align: top;\n",
       "    }\n",
       "\n",
       "    .dataframe thead th {\n",
       "        text-align: right;\n",
       "    }\n",
       "</style>\n",
       "<table border=\"1\" class=\"dataframe\">\n",
       "  <thead>\n",
       "    <tr style=\"text-align: right;\">\n",
       "      <th></th>\n",
       "      <th>plu_line_idx</th>\n",
       "      <th>P</th>\n",
       "      <th>Q</th>\n",
       "      <th>E</th>\n",
       "      <th>PC</th>\n",
       "      <th>C</th>\n",
       "      <th>plu_idx</th>\n",
       "    </tr>\n",
       "  </thead>\n",
       "  <tbody>\n",
       "    <tr>\n",
       "      <th>0</th>\n",
       "      <td>0</td>\n",
       "      <td>110.99</td>\n",
       "      <td>1.901200</td>\n",
       "      <td>-0.181287</td>\n",
       "      <td>109.99</td>\n",
       "      <td>97.10</td>\n",
       "      <td>0</td>\n",
       "    </tr>\n",
       "    <tr>\n",
       "      <th>1</th>\n",
       "      <td>1</td>\n",
       "      <td>115.99</td>\n",
       "      <td>1.386420</td>\n",
       "      <td>-1.587543</td>\n",
       "      <td>104.99</td>\n",
       "      <td>104.89</td>\n",
       "      <td>1</td>\n",
       "    </tr>\n",
       "    <tr>\n",
       "      <th>2</th>\n",
       "      <td>2</td>\n",
       "      <td>82.99</td>\n",
       "      <td>4.949323</td>\n",
       "      <td>-0.580855</td>\n",
       "      <td>85.99</td>\n",
       "      <td>71.28</td>\n",
       "      <td>2</td>\n",
       "    </tr>\n",
       "    <tr>\n",
       "      <th>3</th>\n",
       "      <td>3</td>\n",
       "      <td>166.99</td>\n",
       "      <td>0.480863</td>\n",
       "      <td>-2.824249</td>\n",
       "      <td>161.99</td>\n",
       "      <td>137.14</td>\n",
       "      <td>3</td>\n",
       "    </tr>\n",
       "    <tr>\n",
       "      <th>4</th>\n",
       "      <td>4</td>\n",
       "      <td>60.99</td>\n",
       "      <td>0.968538</td>\n",
       "      <td>-0.808371</td>\n",
       "      <td>60.99</td>\n",
       "      <td>47.23</td>\n",
       "      <td>4</td>\n",
       "    </tr>\n",
       "    <tr>\n",
       "      <th>5</th>\n",
       "      <td>5</td>\n",
       "      <td>105.99</td>\n",
       "      <td>2.095353</td>\n",
       "      <td>-1.734056</td>\n",
       "      <td>110.99</td>\n",
       "      <td>101.23</td>\n",
       "      <td>5</td>\n",
       "    </tr>\n",
       "    <tr>\n",
       "      <th>6</th>\n",
       "      <td>6</td>\n",
       "      <td>50.99</td>\n",
       "      <td>4.625211</td>\n",
       "      <td>-1.200804</td>\n",
       "      <td>51.99</td>\n",
       "      <td>34.92</td>\n",
       "      <td>6</td>\n",
       "    </tr>\n",
       "    <tr>\n",
       "      <th>7</th>\n",
       "      <td>7</td>\n",
       "      <td>70.99</td>\n",
       "      <td>1.843256</td>\n",
       "      <td>-0.958851</td>\n",
       "      <td>78.99</td>\n",
       "      <td>51.70</td>\n",
       "      <td>7</td>\n",
       "    </tr>\n",
       "    <tr>\n",
       "      <th>8</th>\n",
       "      <td>7</td>\n",
       "      <td>70.99</td>\n",
       "      <td>1.843256</td>\n",
       "      <td>-1.230886</td>\n",
       "      <td>78.99</td>\n",
       "      <td>51.70</td>\n",
       "      <td>8</td>\n",
       "    </tr>\n",
       "    <tr>\n",
       "      <th>9</th>\n",
       "      <td>7</td>\n",
       "      <td>70.99</td>\n",
       "      <td>1.843256</td>\n",
       "      <td>-1.011282</td>\n",
       "      <td>78.99</td>\n",
       "      <td>51.70</td>\n",
       "      <td>9</td>\n",
       "    </tr>\n",
       "    <tr>\n",
       "      <th>10</th>\n",
       "      <td>8</td>\n",
       "      <td>77.99</td>\n",
       "      <td>1.649739</td>\n",
       "      <td>-0.827469</td>\n",
       "      <td>69.99</td>\n",
       "      <td>80.17</td>\n",
       "      <td>10</td>\n",
       "    </tr>\n",
       "    <tr>\n",
       "      <th>11</th>\n",
       "      <td>8</td>\n",
       "      <td>77.99</td>\n",
       "      <td>1.649739</td>\n",
       "      <td>-0.647845</td>\n",
       "      <td>69.99</td>\n",
       "      <td>80.17</td>\n",
       "      <td>11</td>\n",
       "    </tr>\n",
       "    <tr>\n",
       "      <th>12</th>\n",
       "      <td>9</td>\n",
       "      <td>91.99</td>\n",
       "      <td>1.385237</td>\n",
       "      <td>-0.647708</td>\n",
       "      <td>94.99</td>\n",
       "      <td>58.31</td>\n",
       "      <td>12</td>\n",
       "    </tr>\n",
       "  </tbody>\n",
       "</table>\n",
       "</div>"
      ],
      "text/plain": [
       "    plu_line_idx       P         Q         E      PC       C  plu_idx\n",
       "0              0  110.99  1.901200 -0.181287  109.99   97.10        0\n",
       "1              1  115.99  1.386420 -1.587543  104.99  104.89        1\n",
       "2              2   82.99  4.949323 -0.580855   85.99   71.28        2\n",
       "3              3  166.99  0.480863 -2.824249  161.99  137.14        3\n",
       "4              4   60.99  0.968538 -0.808371   60.99   47.23        4\n",
       "5              5  105.99  2.095353 -1.734056  110.99  101.23        5\n",
       "6              6   50.99  4.625211 -1.200804   51.99   34.92        6\n",
       "7              7   70.99  1.843256 -0.958851   78.99   51.70        7\n",
       "8              7   70.99  1.843256 -1.230886   78.99   51.70        8\n",
       "9              7   70.99  1.843256 -1.011282   78.99   51.70        9\n",
       "10             8   77.99  1.649739 -0.827469   69.99   80.17       10\n",
       "11             8   77.99  1.649739 -0.647845   69.99   80.17       11\n",
       "12             9   91.99  1.385237 -0.647708   94.99   58.31       12"
      ]
     },
     "execution_count": 9,
     "metadata": {},
     "output_type": "execute_result"
    }
   ],
   "source": [
    "data"
   ]
  },
  {
   "cell_type": "code",
   "execution_count": 10,
   "id": "34bf622f-fb20-40c5-a845-b2f659456b24",
   "metadata": {},
   "outputs": [
    {
     "ename": "KeyError",
     "evalue": "'data_milp'",
     "output_type": "error",
     "traceback": [
      "\u001B[0;31m---------------------------------------------------------------------------\u001B[0m",
      "\u001B[0;31mKeyError\u001B[0m                                  Traceback (most recent call last)",
      "\u001B[0;32m~/anaconda3/envs/article_budylin/lib/python3.7/site-packages/pandas/core/indexes/base.py\u001B[0m in \u001B[0;36mget_loc\u001B[0;34m(self, key, method, tolerance)\u001B[0m\n\u001B[1;32m   3360\u001B[0m             \u001B[0;32mtry\u001B[0m\u001B[0;34m:\u001B[0m\u001B[0;34m\u001B[0m\u001B[0;34m\u001B[0m\u001B[0m\n\u001B[0;32m-> 3361\u001B[0;31m                 \u001B[0;32mreturn\u001B[0m \u001B[0mself\u001B[0m\u001B[0;34m.\u001B[0m\u001B[0m_engine\u001B[0m\u001B[0;34m.\u001B[0m\u001B[0mget_loc\u001B[0m\u001B[0;34m(\u001B[0m\u001B[0mcasted_key\u001B[0m\u001B[0;34m)\u001B[0m\u001B[0;34m\u001B[0m\u001B[0;34m\u001B[0m\u001B[0m\n\u001B[0m\u001B[1;32m   3362\u001B[0m             \u001B[0;32mexcept\u001B[0m \u001B[0mKeyError\u001B[0m \u001B[0;32mas\u001B[0m \u001B[0merr\u001B[0m\u001B[0;34m:\u001B[0m\u001B[0;34m\u001B[0m\u001B[0;34m\u001B[0m\u001B[0m\n",
      "\u001B[0;32m~/anaconda3/envs/article_budylin/lib/python3.7/site-packages/pandas/_libs/index.pyx\u001B[0m in \u001B[0;36mpandas._libs.index.IndexEngine.get_loc\u001B[0;34m()\u001B[0m\n",
      "\u001B[0;32m~/anaconda3/envs/article_budylin/lib/python3.7/site-packages/pandas/_libs/index.pyx\u001B[0m in \u001B[0;36mpandas._libs.index.IndexEngine.get_loc\u001B[0;34m()\u001B[0m\n",
      "\u001B[0;32mpandas/_libs/hashtable_class_helper.pxi\u001B[0m in \u001B[0;36mpandas._libs.hashtable.PyObjectHashTable.get_item\u001B[0;34m()\u001B[0m\n",
      "\u001B[0;32mpandas/_libs/hashtable_class_helper.pxi\u001B[0m in \u001B[0;36mpandas._libs.hashtable.PyObjectHashTable.get_item\u001B[0;34m()\u001B[0m\n",
      "\u001B[0;31mKeyError\u001B[0m: 'data_milp'",
      "\nThe above exception was the direct cause of the following exception:\n",
      "\u001B[0;31mKeyError\u001B[0m                                  Traceback (most recent call last)",
      "\u001B[0;32m/var/folders/1k/mrfmxbw16kx35j8m6mpg7vzc0000gn/T/ipykernel_46644/4045827504.py\u001B[0m in \u001B[0;36m<module>\u001B[0;34m\u001B[0m\n\u001B[0;32m----> 1\u001B[0;31m \u001B[0mpyomo_lp\u001B[0m \u001B[0;34m=\u001B[0m \u001B[0mPyomoLpOptimizationModel\u001B[0m\u001B[0;34m(\u001B[0m\u001B[0mdata\u001B[0m\u001B[0;34m,\u001B[0m \u001B[0;36m0.5\u001B[0m\u001B[0;34m)\u001B[0m\u001B[0;34m\u001B[0m\u001B[0;34m\u001B[0m\u001B[0m\n\u001B[0m",
      "\u001B[0;32m~/work/X5/pricing/OptimizersArticle/optimizers/optimizers.py\u001B[0m in \u001B[0;36m__init__\u001B[0;34m(self, data, alpha)\u001B[0m\n\u001B[1;32m    225\u001B[0m             \u001B[0;32massert\u001B[0m \u001B[0;34m'alpha должна быть 0 или 1'\u001B[0m\u001B[0;34m\u001B[0m\u001B[0;34m\u001B[0m\u001B[0m\n\u001B[1;32m    226\u001B[0m         \u001B[0mself\u001B[0m\u001B[0;34m.\u001B[0m\u001B[0malpha\u001B[0m \u001B[0;34m=\u001B[0m \u001B[0malpha\u001B[0m\u001B[0;34m\u001B[0m\u001B[0;34m\u001B[0m\u001B[0m\n\u001B[0;32m--> 227\u001B[0;31m         \u001B[0mself\u001B[0m\u001B[0;34m.\u001B[0m\u001B[0mdata\u001B[0m \u001B[0;34m=\u001B[0m \u001B[0mdata\u001B[0m\u001B[0;34m[\u001B[0m\u001B[0;34m'data_milp'\u001B[0m\u001B[0;34m]\u001B[0m\u001B[0;34m.\u001B[0m\u001B[0mcopy\u001B[0m\u001B[0;34m(\u001B[0m\u001B[0;34m)\u001B[0m\u001B[0;34m\u001B[0m\u001B[0;34m\u001B[0m\u001B[0m\n\u001B[0m\u001B[1;32m    228\u001B[0m         \u001B[0mself\u001B[0m\u001B[0;34m.\u001B[0m\u001B[0mN\u001B[0m \u001B[0;34m=\u001B[0m \u001B[0mlen\u001B[0m\u001B[0;34m(\u001B[0m\u001B[0mself\u001B[0m\u001B[0;34m.\u001B[0m\u001B[0mdata\u001B[0m\u001B[0;34m[\u001B[0m\u001B[0;34m'plu_line_idx'\u001B[0m\u001B[0;34m]\u001B[0m\u001B[0;34m)\u001B[0m\u001B[0;34m\u001B[0m\u001B[0;34m\u001B[0m\u001B[0m\n\u001B[1;32m    229\u001B[0m         \u001B[0mself\u001B[0m\u001B[0;34m.\u001B[0m\u001B[0mgrid_size\u001B[0m \u001B[0;34m=\u001B[0m \u001B[0mself\u001B[0m\u001B[0;34m.\u001B[0m\u001B[0mdata\u001B[0m\u001B[0;34m[\u001B[0m\u001B[0;34m'grid_size'\u001B[0m\u001B[0;34m]\u001B[0m\u001B[0;34m.\u001B[0m\u001B[0mvalues\u001B[0m\u001B[0;34m\u001B[0m\u001B[0;34m\u001B[0m\u001B[0m\n",
      "\u001B[0;32m~/anaconda3/envs/article_budylin/lib/python3.7/site-packages/pandas/core/frame.py\u001B[0m in \u001B[0;36m__getitem__\u001B[0;34m(self, key)\u001B[0m\n\u001B[1;32m   3456\u001B[0m             \u001B[0;32mif\u001B[0m \u001B[0mself\u001B[0m\u001B[0;34m.\u001B[0m\u001B[0mcolumns\u001B[0m\u001B[0;34m.\u001B[0m\u001B[0mnlevels\u001B[0m \u001B[0;34m>\u001B[0m \u001B[0;36m1\u001B[0m\u001B[0;34m:\u001B[0m\u001B[0;34m\u001B[0m\u001B[0;34m\u001B[0m\u001B[0m\n\u001B[1;32m   3457\u001B[0m                 \u001B[0;32mreturn\u001B[0m \u001B[0mself\u001B[0m\u001B[0;34m.\u001B[0m\u001B[0m_getitem_multilevel\u001B[0m\u001B[0;34m(\u001B[0m\u001B[0mkey\u001B[0m\u001B[0;34m)\u001B[0m\u001B[0;34m\u001B[0m\u001B[0;34m\u001B[0m\u001B[0m\n\u001B[0;32m-> 3458\u001B[0;31m             \u001B[0mindexer\u001B[0m \u001B[0;34m=\u001B[0m \u001B[0mself\u001B[0m\u001B[0;34m.\u001B[0m\u001B[0mcolumns\u001B[0m\u001B[0;34m.\u001B[0m\u001B[0mget_loc\u001B[0m\u001B[0;34m(\u001B[0m\u001B[0mkey\u001B[0m\u001B[0;34m)\u001B[0m\u001B[0;34m\u001B[0m\u001B[0;34m\u001B[0m\u001B[0m\n\u001B[0m\u001B[1;32m   3459\u001B[0m             \u001B[0;32mif\u001B[0m \u001B[0mis_integer\u001B[0m\u001B[0;34m(\u001B[0m\u001B[0mindexer\u001B[0m\u001B[0;34m)\u001B[0m\u001B[0;34m:\u001B[0m\u001B[0;34m\u001B[0m\u001B[0;34m\u001B[0m\u001B[0m\n\u001B[1;32m   3460\u001B[0m                 \u001B[0mindexer\u001B[0m \u001B[0;34m=\u001B[0m \u001B[0;34m[\u001B[0m\u001B[0mindexer\u001B[0m\u001B[0;34m]\u001B[0m\u001B[0;34m\u001B[0m\u001B[0;34m\u001B[0m\u001B[0m\n",
      "\u001B[0;32m~/anaconda3/envs/article_budylin/lib/python3.7/site-packages/pandas/core/indexes/base.py\u001B[0m in \u001B[0;36mget_loc\u001B[0;34m(self, key, method, tolerance)\u001B[0m\n\u001B[1;32m   3361\u001B[0m                 \u001B[0;32mreturn\u001B[0m \u001B[0mself\u001B[0m\u001B[0;34m.\u001B[0m\u001B[0m_engine\u001B[0m\u001B[0;34m.\u001B[0m\u001B[0mget_loc\u001B[0m\u001B[0;34m(\u001B[0m\u001B[0mcasted_key\u001B[0m\u001B[0;34m)\u001B[0m\u001B[0;34m\u001B[0m\u001B[0;34m\u001B[0m\u001B[0m\n\u001B[1;32m   3362\u001B[0m             \u001B[0;32mexcept\u001B[0m \u001B[0mKeyError\u001B[0m \u001B[0;32mas\u001B[0m \u001B[0merr\u001B[0m\u001B[0;34m:\u001B[0m\u001B[0;34m\u001B[0m\u001B[0;34m\u001B[0m\u001B[0m\n\u001B[0;32m-> 3363\u001B[0;31m                 \u001B[0;32mraise\u001B[0m \u001B[0mKeyError\u001B[0m\u001B[0;34m(\u001B[0m\u001B[0mkey\u001B[0m\u001B[0;34m)\u001B[0m \u001B[0;32mfrom\u001B[0m \u001B[0merr\u001B[0m\u001B[0;34m\u001B[0m\u001B[0;34m\u001B[0m\u001B[0m\n\u001B[0m\u001B[1;32m   3364\u001B[0m \u001B[0;34m\u001B[0m\u001B[0m\n\u001B[1;32m   3365\u001B[0m         \u001B[0;32mif\u001B[0m \u001B[0mis_scalar\u001B[0m\u001B[0;34m(\u001B[0m\u001B[0mkey\u001B[0m\u001B[0;34m)\u001B[0m \u001B[0;32mand\u001B[0m \u001B[0misna\u001B[0m\u001B[0;34m(\u001B[0m\u001B[0mkey\u001B[0m\u001B[0;34m)\u001B[0m \u001B[0;32mand\u001B[0m \u001B[0;32mnot\u001B[0m \u001B[0mself\u001B[0m\u001B[0;34m.\u001B[0m\u001B[0mhasnans\u001B[0m\u001B[0;34m:\u001B[0m\u001B[0;34m\u001B[0m\u001B[0;34m\u001B[0m\u001B[0m\n",
      "\u001B[0;31mKeyError\u001B[0m: 'data_milp'"
     ]
    }
   ],
   "source": [
    "pyomo_lp = PyomoLpOptimizationModel(data, 0.5)"
   ]
  },
  {
   "cell_type": "code",
   "execution_count": null,
   "id": "67d16e2d-0460-4fd7-a75b-7b407b81b209",
   "metadata": {},
   "outputs": [],
   "source": []
  },
  {
   "cell_type": "code",
   "execution_count": null,
   "id": "7153b59c-e97f-4dd4-ac63-c5cfcd836bdf",
   "metadata": {},
   "outputs": [],
   "source": []
  },
  {
   "cell_type": "markdown",
   "id": "486b0c5a",
   "metadata": {
    "tags": []
   },
   "source": [
    "## Общая постановка задачи и её разновидности\n"
   ]
  },
  {
   "cell_type": "markdown",
   "id": "030b4ce5",
   "metadata": {},
   "source": [
    "Прежде всего рассмотрим постановку задачи в общем виде:\n",
    "\n",
    "$x$ - вектор размерности $n$, $x \\in X$ - допустимое множество значений этих переменных.\n",
    "\n",
    "$f(x) \\to \\min(\\max)$, $f(\\cdot)$ - целевая функция\n",
    "\n",
    "$g_i(x) \\leqslant 0, \\ i=1..m$ - ограничения вида неравенств\n",
    "\n",
    "$h_i(x) = 0, \\ j=1..k$ - ограничения вида равенств\n",
    "\n",
    "Исходя из практики можно разложить данную постановку на несколько классов в зависимости от вида целевой функции, ограничений и $X$:\n",
    "\n",
    "* __Безусловная оптимизация__ $g_i(x), h_j(x)$ - отсутствуют, $X = \\mathbb{R}^n$;\n",
    "\n",
    "* __LP__ (linear programming) - линейное программирование. $f(x), g_i(x), h_j(x)$ - линейные функции, $X = \\mathbb{R}_+^n$;\n",
    "\n",
    "* __MILP__ (mixed integer linear programming) - смешанное целочисленное линейное программирование, это задача LP в которой только часть переменных являются целочисленными;\n",
    "\n",
    "* __NLP__ (nonlinear programming) - нелинейное программирование, возникает когда хотя бы одна из функций $f(x),\\ g_i(x),\\ h_j(x)$ нелинейна;\n",
    "\n",
    "* __MINLP__ (mixed integer nonlinear programming) - смешанное целочисленное нелинейное программирование,\n",
    "возникает как и в MILP, когда часть переменных принимает целочисленные значения;\n",
    "\n",
    "__NLP__ в свою очередь можно подробить еще на множество разных классов в зависимости от вида нелинейности и выпуклости.\n"
   ]
  },
  {
   "cell_type": "markdown",
   "id": "6abf777f",
   "metadata": {
    "tags": []
   },
   "source": [
    "## Модельная задача оптимизации\n"
   ]
  },
  {
   "cell_type": "markdown",
   "id": "6cd24d69",
   "metadata": {},
   "source": [
    "### Пример модели с широкой и длинной матрицей"
   ]
  },
  {
   "cell_type": "markdown",
   "id": "d2171814",
   "metadata": {},
   "source": [
    "### Пример сгенерированный данных\n"
   ]
  },
  {
   "cell_type": "markdown",
   "id": "cd4297b2",
   "metadata": {
    "tags": []
   },
   "source": [
    "### Расчёт\n"
   ]
  },
  {
   "cell_type": "markdown",
   "id": "5f5b3333",
   "metadata": {},
   "source": [
    "На шаге 2 будет решаться сама оптимизационная задача.\n",
    "Выглядит удобным описать оптимизационную модель в виде базового класса __OptimizationModel__,\n",
    "который будет содержать методы, необходимые для постановки задачи.\n",
    "Методы в классе __OptimizationModel__:\n",
    "* init_objective - задание целевой функции,\n",
    "* add_con_mrg - ограничений и метод,\n",
    "* init_variables - задание переменных и границ.\n",
    "* solve - поиск оптимального решения\n",
    "\n",
    "Таким образом, можно организовать единый интерфейс для решения различными пакетами.\n",
    "Реализация методов для каждой библиотеки будет отличаться, с чем можно ознакомиться в модуле optimizers.\n",
    "\n",
    "Запуск оптимизационной задачи теперь можно описать в виде функции, в которую поступают данные,\n",
    "модель для решения задачи, параметры ограничений — словарь и дополнительные опции для солвера [ссылка на github](https://github.com/mbudylin/OptimizersArticle/blob/main/optimizers/optimization.py).\n",
    "\n",
    "```python\n",
    "def pricing_optimization(data, opt_model, opt_params, solver, solver_option={}):\n",
    "    \"\"\"\n",
    "    Запуск расчета оптимальных цен с помощью указанного класса оптимизатора и параметров\n",
    "    :param data: входные данные для оптимизации\n",
    "    :param opt_model: класс модели оптимизатора\n",
    "    :param opt_params: параметры оптимизации\n",
    "    :param solver: солвер для оптимизации\n",
    "    :param solver_option: параметры солвера\n",
    "    :return: словарь, возвращаемый моделью оптимизации\n",
    "    \"\"\"\n",
    "\n",
    "    model = opt_model(data, opt_params['alpha'])\n",
    "\n",
    "    model.init_variables()\n",
    "    model.init_objective()\n",
    "    # ...\n",
    "    result = model.solve(solver=solver, options=solver_option)\n",
    "    result['model_class'] = model\n",
    "    return result\n",
    "```"
   ]
  },
  {
   "cell_type": "markdown",
   "id": "ee0b5d22",
   "metadata": {
    "tags": []
   },
   "source": [
    "__Реализации классов для оптимизационных задач__\n",
    "\n",
    "Описание классов здесь займет достаточно много места, детали можно найти [тут, код-github](https://github.com/mbudylin/OptimizersArticle/blob/main/optimizers/optimizers.py),\n",
    "где реализовано 4 класса:\n",
    "* __ScipyNlpOptimizationModel__ для NLP постановки через Scipy\n",
    "* __PyomoNlpOptimizationModel__ для NLP постановки через Pyomo\n",
    "* __PyomoLpOptimizationModel__ для MILP постановки через Pyomo\n",
    "* __CvxpyLpOptimizationModel__ для MILP постановки через Cvxpy\n"
   ]
  },
  {
   "cell_type": "markdown",
   "id": "17b0e831",
   "metadata": {},
   "source": [
    "## Как пользоваться\n"
   ]
  },
  {
   "cell_type": "markdown",
   "id": "140ccca2",
   "metadata": {},
   "source": [
    "Чтобы запустить расчёты, нужно выполнить команду:\n",
    "\n",
    "```console\n",
    "python runner.py\n",
    "```\n",
    "\n",
    "Результаты замеров представлены ниже на графиках.\n"
   ]
  },
  {
   "cell_type": "markdown",
   "id": "46b0b1bb",
   "metadata": {},
   "source": [
    "## Заключение"
   ]
  },
  {
   "cell_type": "markdown",
   "id": "7013f922",
   "metadata": {
    "pycharm": {
     "name": "#%% md\n"
    }
   },
   "source": [
    "В данной статье мы рассмотрели, какие задачи оптимизации бывают на практике, и научились решать\n",
    " их с помощью пакета __PYOMO__.\n",
    "\n",
    "В следующей стать более детально обсудим другие пакеты оптимизации для python и их различия.\n",
    "\n",
    "Над статьёй работали Михаил Будылин, Антон Денисов, Михаил Дубровский.\n"
   ]
  }
 ],
 "metadata": {
  "celltoolbar": "Необработанный формат ячейки",
  "kernelspec": {
   "display_name": "Python 3 (ipykernel)",
   "language": "python",
   "name": "python3"
  },
  "language_info": {
   "codemirror_mode": {
    "name": "ipython",
    "version": 3
   },
   "file_extension": ".py",
   "mimetype": "text/x-python",
   "name": "python",
   "nbconvert_exporter": "python",
   "pygments_lexer": "ipython3",
   "version": "3.7.13"
  }
 },
 "nbformat": 4,
 "nbformat_minor": 5
}